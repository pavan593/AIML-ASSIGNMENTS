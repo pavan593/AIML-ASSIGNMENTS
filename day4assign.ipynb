{
  "nbformat": 4,
  "nbformat_minor": 0,
  "metadata": {
    "colab": {
      "provenance": []
    },
    "kernelspec": {
      "name": "python3",
      "display_name": "Python 3"
    },
    "language_info": {
      "name": "python"
    }
  },
  "cells": [
    {
      "cell_type": "code",
      "source": [
        "def sum_of_even_numbers(n):\n",
        "    # Initialize the sum variable\n",
        "    total_sum = 0\n",
        "\n",
        "    # Loop through the range of numbers from 1 to n\n",
        "    for i in range(2, n + 1, 2):  # Start from 2 and step by 2 (even numbers)\n",
        "        total_sum += i\n",
        "\n",
        "    return total_sum\n",
        "\n",
        "# Input: Get the positive integer n from the user\n",
        "n = int(input(\"Enter a positive integer: \"))\n",
        "\n",
        "# Check if the input is valid\n",
        "if n > 0:\n",
        "    result = sum_of_even_numbers(n)\n",
        "    print(f\"The sum of all even numbers between 1 and {n} is: {result}\")\n",
        "else:\n",
        "    print(\"Please enter a positive integer.\")\n"
      ],
      "metadata": {
        "id": "nA-8IBJX-QtB",
        "colab": {
          "base_uri": "https://localhost:8080/"
        },
        "outputId": "8eaf9e4f-18f7-41ec-ebb7-0c45f89d2f17"
      },
      "execution_count": 7,
      "outputs": [
        {
          "output_type": "stream",
          "name": "stdout",
          "text": [
            "Enter a positive integer: 5\n",
            "The sum of all even numbers between 1 and 5 is: 6\n"
          ]
        }
      ]
    }
  ]
}