{
  "nbformat": 4,
  "nbformat_minor": 0,
  "metadata": {
    "colab": {
      "provenance": []
    },
    "kernelspec": {
      "name": "python3",
      "display_name": "Python 3"
    },
    "language_info": {
      "name": "python"
    }
  },
  "cells": [
    {
      "cell_type": "code",
      "source": [
        "# List\n",
        "my_list = [10, 20, 30, 40, 50]\n",
        "print(\"List:\", my_list)\n",
        "print(\"First element in the list:\", my_list[0])\n",
        "print(\"Last element in the list:\", my_list[-1])\n",
        "print(\"Slice from index 1 to 3:\", my_list[1:4])\n",
        "\n",
        "# Tuple\n",
        "my_tuple = (\"apple\", \"banana\", \"cherry\", \"date\", \"elderberry\")\n",
        "print(\"\\nTuple:\", my_tuple)\n",
        "print(\"Second element in the tuple:\", my_tuple[1])\n",
        "print(\"Last two elements in the tuple:\", my_tuple[-2:])\n",
        "\n",
        "# Dictionary\n",
        "my_dict = {\"A\": 100, \"B\": 200, \"C\": 300, \"D\": 400, \"E\": 500}\n",
        "print(\"\\nDictionary:\", my_dict)\n",
        "print(\"Value for key 'C':\", my_dict[\"C\"])\n",
        "print(\"Keys in the dictionary:\", list(my_dict.keys()))\n",
        "print(\"Values in the dictionary:\", list(my_dict.values()))\n"
      ],
      "metadata": {
        "colab": {
          "base_uri": "https://localhost:8080/"
        },
        "id": "P9gcDC8n9O2p",
        "outputId": "6cd49dd5-e166-4735-d78f-d9db9a07d202"
      },
      "execution_count": 5,
      "outputs": [
        {
          "output_type": "stream",
          "name": "stdout",
          "text": [
            "List: [10, 20, 30, 40, 50]\n",
            "First element in the list: 10\n",
            "Last element in the list: 50\n",
            "Slice from index 1 to 3: [20, 30, 40]\n",
            "\n",
            "Tuple: ('apple', 'banana', 'cherry', 'date', 'elderberry')\n",
            "Second element in the tuple: banana\n",
            "Last two elements in the tuple: ('date', 'elderberry')\n",
            "\n",
            "Dictionary: {'A': 100, 'B': 200, 'C': 300, 'D': 400, 'E': 500}\n",
            "Value for key 'C': 300\n",
            "Keys in the dictionary: ['A', 'B', 'C', 'D', 'E']\n",
            "Values in the dictionary: [100, 200, 300, 400, 500]\n"
          ]
        }
      ]
    }
  ]
}