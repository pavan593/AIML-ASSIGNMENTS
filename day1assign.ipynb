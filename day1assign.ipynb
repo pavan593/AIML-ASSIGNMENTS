{
  "nbformat": 4,
  "nbformat_minor": 0,
  "metadata": {
    "colab": {
      "provenance": []
    },
    "kernelspec": {
      "name": "python3",
      "display_name": "Python 3"
    },
    "language_info": {
      "name": "python"
    }
  },
  "cells": [
    {
      "cell_type": "code",
      "source": [
        "# Declare variables of different data types\n",
        "integer_var = 10\n",
        "float_var = 3.14\n",
        "string_var = \"Hello!\"\n",
        "boolean_var = True\n",
        "\n",
        "\n",
        "print(f\"Integer: {integer_var}, Type: {type(integer_var)}\")\n",
        "print(f\"Float: {float_var}, Type: {type(float_var)}\")\n",
        "print(f\"String: {string_var}, Type: {type(string_var)}\")\n",
        "print(f\"Boolean: {boolean_var}, Type: {type(boolean_var)}\")\n"
      ],
      "metadata": {
        "colab": {
          "base_uri": "https://localhost:8080/"
        },
        "id": "gVR7jp0u8TOC",
        "outputId": "23c9a919-cae4-428c-80ff-c409f3049fff"
      },
      "execution_count": 2,
      "outputs": [
        {
          "output_type": "stream",
          "name": "stdout",
          "text": [
            "Integer: 10, Type: <class 'int'>\n",
            "Float: 3.14, Type: <class 'float'>\n",
            "String: Hello!, Type: <class 'str'>\n",
            "Boolean: True, Type: <class 'bool'>\n"
          ]
        }
      ]
    }
  ]
}